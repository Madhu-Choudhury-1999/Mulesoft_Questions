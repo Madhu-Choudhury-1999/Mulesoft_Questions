{
 "cells": [
  {
   "cell_type": "code",
   "execution_count": 2,
   "metadata": {},
   "outputs": [],
   "source": [
    "import sqlite3\n",
    "con = sqlite3.connect('Movies_DataBase.db')"
   ]
  },
  {
   "cell_type": "code",
   "execution_count": 7,
   "metadata": {},
   "outputs": [
    {
     "data": {
      "text/plain": [
       "<sqlite3.Cursor at 0x25dc1a6ba40>"
      ]
     },
     "execution_count": 7,
     "metadata": {},
     "output_type": "execute_result"
    }
   ],
   "source": [
    "cur = con.cursor()\n",
    "\n",
    "# Create table\n",
    "cur.execute('''CREATE TABLE MOVIES1\n",
    "               (Movie_Name text, Lead_Actor text, Lead_Actress text, Directore_Name text, YOR text)''')"
   ]
  },
  {
   "cell_type": "code",
   "execution_count": 8,
   "metadata": {},
   "outputs": [],
   "source": [
    "# Inserting rows of data\n",
    "cur.execute(\"INSERT INTO MOVIES1 VALUES ('Mimi','Pankaj Tripathi','Kriti Sanon', 'Laxman Utekar', '2021')\")\n",
    "cur.execute(\"INSERT INTO MOVIES1 VALUES('Shershah','Siddharth Malhotra', 'Kiara Advani', 'Vishnuwardhan', '2021')\")\n",
    "cur.execute(\"INSERT INTO MOVIES1 VALUES('Angrezi Medium','Irrfan Khan', 'Radhika Madan', 'Homi Adajania', '2020')\")\n",
    "cur.execute(\"INSERT INTO MOVIES1 VALUES('Kaagaz','Pankaj Tripathi', 'Monal Gajjar', 'Sathish Kaushik', '2021')\")\n",
    "cur.execute(\"INSERT INTO MOVIES1 VALUES('Tune in for Love','Jung Hae-in','Kim Go-eun','Jung Ji-woo','2019')\")\n",
    "\n",
    "\n",
    "# Save (commit) the changes\n",
    "con.commit()"
   ]
  },
  {
   "cell_type": "code",
   "execution_count": 11,
   "metadata": {},
   "outputs": [
    {
     "name": "stdout",
     "output_type": "stream",
     "text": [
      "('Mimi', 'Pankaj Tripathi', 'Kriti Sanon', 'Laxman Utekar', '2021')\n",
      "('Shershah', 'Siddharth Malhotra', 'Kiara Advani', 'Vishnuwardhan', '2021')\n",
      "('Angrezi Medium', 'Irrfan Khan', 'Radhika Madan', 'Homi Adajania', '2020')\n",
      "('Kaagaz', 'Pankaj Tripathi', 'Monal Gajjar', 'Sathish Kaushik', '2021')\n",
      "('Tune in for Love', 'Jung Hae-in', 'Kim Go-eun', 'Jung Ji-woo', '2019')\n"
     ]
    }
   ],
   "source": [
    "for row in cur.execute('SELECT * FROM MOVIES1'):\n",
    "        print(row)"
   ]
  },
  {
   "cell_type": "code",
   "execution_count": 12,
   "metadata": {},
   "outputs": [
    {
     "name": "stdout",
     "output_type": "stream",
     "text": [
      "[('Mimi',), ('Kaagaz',)]\n"
     ]
    }
   ],
   "source": [
    "cur.execute(\"SELECT Movie_Name FROM MOVIES1 WHERE Lead_Actor = 'Pankaj Tripathi'\")\n",
    "print(cur.fetchall())"
   ]
  },
  {
   "cell_type": "code",
   "execution_count": null,
   "metadata": {},
   "outputs": [],
   "source": []
  }
 ],
 "metadata": {
  "kernelspec": {
   "display_name": "Python 3",
   "language": "python",
   "name": "python3"
  },
  "language_info": {
   "codemirror_mode": {
    "name": "ipython",
    "version": 3
   },
   "file_extension": ".py",
   "mimetype": "text/x-python",
   "name": "python",
   "nbconvert_exporter": "python",
   "pygments_lexer": "ipython3",
   "version": "3.8.2"
  }
 },
 "nbformat": 4,
 "nbformat_minor": 4
}
