{
 "cells": [
  {
   "cell_type": "code",
   "execution_count": 2,
   "metadata": {},
   "outputs": [],
   "source": [
    "import sqlite3\n",
    "con = sqlite3.connect('Movies_DataBase.db')"
   ]
  },
  {
   "cell_type": "code",
   "execution_count": 3,
   "metadata": {},
   "outputs": [
    {
     "ename": "OperationalError",
     "evalue": "table MOVIES already exists",
     "output_type": "error",
     "traceback": [
      "\u001b[1;31m---------------------------------------------------------------------------\u001b[0m",
      "\u001b[1;31mOperationalError\u001b[0m                          Traceback (most recent call last)",
      "\u001b[1;32m<ipython-input-3-0aa9816fafaf>\u001b[0m in \u001b[0;36m<module>\u001b[1;34m\u001b[0m\n\u001b[0;32m      2\u001b[0m \u001b[1;33m\u001b[0m\u001b[0m\n\u001b[0;32m      3\u001b[0m \u001b[1;31m# Create table\u001b[0m\u001b[1;33m\u001b[0m\u001b[1;33m\u001b[0m\u001b[1;33m\u001b[0m\u001b[0m\n\u001b[1;32m----> 4\u001b[1;33m cur.execute('''CREATE TABLE MOVIES\n\u001b[0m\u001b[0;32m      5\u001b[0m                (Movie_Name text, Lead_Actor text, Lead_Actress text, Directore_Name text, YOR text)''')\n",
      "\u001b[1;31mOperationalError\u001b[0m: table MOVIES already exists"
     ]
    }
   ],
   "source": [
    "cur = con.cursor()\n",
    "\n",
    "# Create table\n",
    "cur.execute('''CREATE TABLE MOVIES\n",
    "               (Movie_Name text, Lead_Actor text, Lead_Actress text, Directore_Name text, YOR text)''')"
   ]
  },
  {
   "cell_type": "code",
   "execution_count": 4,
   "metadata": {},
   "outputs": [],
   "source": [
    "# Inserting rows of data\n",
    "cur.execute(\"INSERT INTO MOVIES VALUES ('Mimi','Pankaj Tripathi','Kriti Sanon', 'Laxman Utekar', '2021')\")\n",
    "cur.execute(\"INSERT INTO MOVIES VALUES('Shershah','Siddharth Malhotra', 'Kiara Advani', 'Vishnuwardhan', '2021')\")\n",
    "cur.execute(\"INSERT INTO MOVIES VALUES('Angrezi Medium','Irrfan Khan', 'Radhika Madan', 'Homi Adajania', '2020')\")\n",
    "cur.execute(\"INSERT INTO MOVIES VALUES('Kaagaz','Panka Tripathi', 'Monal Gajjar', 'Sathish Kaushik', '2021')\")\n",
    "cur.execute(\"INSERT INTO MOVIES VALUES('Tune in for Love','Jung Hae-in','Kim Go-eun','Jung Ji-woo','2019')\")\n",
    "\n",
    "\n",
    "# Save (commit) the changes\n",
    "con.commit()"
   ]
  },
  {
   "cell_type": "code",
   "execution_count": 5,
   "metadata": {},
   "outputs": [
    {
     "name": "stdout",
     "output_type": "stream",
     "text": [
      "('Mimi', 'Pankaj Tripathi', 'Kriti Sanon', 'Laxman Utekar', '2021')\n",
      "('Shershah', 'Siddharth Malhotra', 'Kiara Advani', 'Vishnuwardhan', '2021')\n",
      "('Angrezi Medium', 'Irrfan Khan', 'Radhika Madan', 'Homi Adajania', '2020')\n",
      "('Kaagaz', 'Pankaj Tripathi', 'Monal Gajjar', 'Sathish Kaushik', '2021')\n",
      "('Tune in for Love', 'Jung Hae-in', 'Kim Go-eun', 'Jung Ji-woo', '2019')\n",
      "('Mimi', 'Pankaj Tripathi', 'Kriti Sanon', 'Laxman Utekar', '2021')\n",
      "('Shershah', 'Siddharth Malhotra', 'Kiara Advani', 'Vishnuwardhan', '2021')\n",
      "('Angrezi Medium', 'Irrfan Khan', 'Radhika Madan', 'Homi Adajania', '2020')\n",
      "('Kaagaz', 'Panka Tripathi', 'Monal Gajjar', 'Sathish Kaushik', '2021')\n",
      "('Tune in for Love', 'Jung Hae-in', 'Kim Go-eun', 'Jung Ji-woo', '2019')\n"
     ]
    }
   ],
   "source": [
    "for row in cur.execute('SELECT * FROM MOVIES'):\n",
    "        print(row)"
   ]
  },
  {
   "cell_type": "code",
   "execution_count": 6,
   "metadata": {},
   "outputs": [
    {
     "name": "stdout",
     "output_type": "stream",
     "text": [
      "[('Mimi',), ('Kaagaz',), ('Mimi',)]\n"
     ]
    }
   ],
   "source": [
    "cur.execute(\"SELECT Movie_Name FROM MOVIES WHERE Lead_Actor = 'Pankaj Tripathi'\")\n",
    "print(cur.fetchall())"
   ]
  },
  {
   "cell_type": "code",
   "execution_count": null,
   "metadata": {},
   "outputs": [],
   "source": []
  }
 ],
 "metadata": {
  "kernelspec": {
   "display_name": "Python 3",
   "language": "python",
   "name": "python3"
  },
  "language_info": {
   "codemirror_mode": {
    "name": "ipython",
    "version": 3
   },
   "file_extension": ".py",
   "mimetype": "text/x-python",
   "name": "python",
   "nbconvert_exporter": "python",
   "pygments_lexer": "ipython3",
   "version": "3.8.2"
  }
 },
 "nbformat": 4,
 "nbformat_minor": 4
}
